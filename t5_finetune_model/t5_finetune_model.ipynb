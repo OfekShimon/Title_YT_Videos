{
 "cells": [
  {
   "cell_type": "markdown",
   "metadata": {},
   "source": [
    "### **Initialization**"
   ]
  },
  {
   "cell_type": "code",
   "execution_count": 1,
   "metadata": {},
   "outputs": [
    {
     "name": "stdout",
     "output_type": "stream",
     "text": [
      "Requirement already satisfied: evaluate in d:\\programs\\python\\python312\\lib\\site-packages (0.4.3)\n",
      "Requirement already satisfied: datasets>=2.0.0 in d:\\programs\\python\\python312\\lib\\site-packages (from evaluate) (3.0.1)\n",
      "Requirement already satisfied: numpy>=1.17 in d:\\programs\\python\\python312\\lib\\site-packages (from evaluate) (1.26.4)\n",
      "Requirement already satisfied: dill in d:\\programs\\python\\python312\\lib\\site-packages (from evaluate) (0.3.8)\n",
      "Requirement already satisfied: pandas in d:\\programs\\python\\python312\\lib\\site-packages (from evaluate) (2.2.3)\n",
      "Requirement already satisfied: requests>=2.19.0 in d:\\programs\\python\\python312\\lib\\site-packages (from evaluate) (2.32.3)\n",
      "Requirement already satisfied: tqdm>=4.62.1 in d:\\programs\\python\\python312\\lib\\site-packages (from evaluate) (4.66.5)\n",
      "Requirement already satisfied: xxhash in d:\\programs\\python\\python312\\lib\\site-packages (from evaluate) (3.5.0)\n",
      "Requirement already satisfied: multiprocess in d:\\programs\\python\\python312\\lib\\site-packages (from evaluate) (0.70.16)\n",
      "Requirement already satisfied: fsspec>=2021.05.0 in d:\\programs\\python\\python312\\lib\\site-packages (from fsspec[http]>=2021.05.0->evaluate) (2024.2.0)\n",
      "Requirement already satisfied: huggingface-hub>=0.7.0 in d:\\programs\\python\\python312\\lib\\site-packages (from evaluate) (0.25.2)\n",
      "Requirement already satisfied: packaging in d:\\programs\\python\\python312\\lib\\site-packages (from evaluate) (24.1)\n",
      "Requirement already satisfied: filelock in d:\\programs\\python\\python312\\lib\\site-packages (from datasets>=2.0.0->evaluate) (3.13.1)\n",
      "Requirement already satisfied: pyarrow>=15.0.0 in d:\\programs\\python\\python312\\lib\\site-packages (from datasets>=2.0.0->evaluate) (17.0.0)\n",
      "Requirement already satisfied: aiohttp in d:\\programs\\python\\python312\\lib\\site-packages (from datasets>=2.0.0->evaluate) (3.10.9)\n",
      "Requirement already satisfied: pyyaml>=5.1 in d:\\programs\\python\\python312\\lib\\site-packages (from datasets>=2.0.0->evaluate) (6.0.2)\n",
      "Requirement already satisfied: typing-extensions>=3.7.4.3 in d:\\programs\\python\\python312\\lib\\site-packages (from huggingface-hub>=0.7.0->evaluate) (4.12.2)\n",
      "Requirement already satisfied: charset-normalizer<4,>=2 in d:\\programs\\python\\python312\\lib\\site-packages (from requests>=2.19.0->evaluate) (3.3.2)\n",
      "Requirement already satisfied: idna<4,>=2.5 in d:\\programs\\python\\python312\\lib\\site-packages (from requests>=2.19.0->evaluate) (3.9)\n",
      "Requirement already satisfied: urllib3<3,>=1.21.1 in d:\\programs\\python\\python312\\lib\\site-packages (from requests>=2.19.0->evaluate) (2.2.3)\n",
      "Requirement already satisfied: certifi>=2017.4.17 in d:\\programs\\python\\python312\\lib\\site-packages (from requests>=2.19.0->evaluate) (2024.8.30)\n",
      "Requirement already satisfied: colorama in d:\\programs\\python\\python312\\lib\\site-packages (from tqdm>=4.62.1->evaluate) (0.4.6)\n",
      "Requirement already satisfied: python-dateutil>=2.8.2 in d:\\programs\\python\\python312\\lib\\site-packages (from pandas->evaluate) (2.9.0.post0)\n",
      "Requirement already satisfied: pytz>=2020.1 in d:\\programs\\python\\python312\\lib\\site-packages (from pandas->evaluate) (2024.2)\n",
      "Requirement already satisfied: tzdata>=2022.7 in d:\\programs\\python\\python312\\lib\\site-packages (from pandas->evaluate) (2024.2)\n",
      "Requirement already satisfied: aiohappyeyeballs>=2.3.0 in d:\\programs\\python\\python312\\lib\\site-packages (from aiohttp->datasets>=2.0.0->evaluate) (2.4.3)\n",
      "Requirement already satisfied: aiosignal>=1.1.2 in d:\\programs\\python\\python312\\lib\\site-packages (from aiohttp->datasets>=2.0.0->evaluate) (1.3.1)\n",
      "Requirement already satisfied: attrs>=17.3.0 in d:\\programs\\python\\python312\\lib\\site-packages (from aiohttp->datasets>=2.0.0->evaluate) (24.2.0)\n",
      "Requirement already satisfied: frozenlist>=1.1.1 in d:\\programs\\python\\python312\\lib\\site-packages (from aiohttp->datasets>=2.0.0->evaluate) (1.4.1)\n",
      "Requirement already satisfied: multidict<7.0,>=4.5 in d:\\programs\\python\\python312\\lib\\site-packages (from aiohttp->datasets>=2.0.0->evaluate) (6.1.0)\n",
      "Requirement already satisfied: yarl<2.0,>=1.12.0 in d:\\programs\\python\\python312\\lib\\site-packages (from aiohttp->datasets>=2.0.0->evaluate) (1.14.0)\n",
      "Requirement already satisfied: six>=1.5 in d:\\programs\\python\\python312\\lib\\site-packages (from python-dateutil>=2.8.2->pandas->evaluate) (1.16.0)\n",
      "Requirement already satisfied: propcache>=0.2.0 in d:\\programs\\python\\python312\\lib\\site-packages (from yarl<2.0,>=1.12.0->aiohttp->datasets>=2.0.0->evaluate) (0.2.0)\n",
      "Requirement already satisfied: rouge_score in d:\\programs\\python\\python312\\lib\\site-packages (0.1.2)\n",
      "Requirement already satisfied: absl-py in d:\\programs\\python\\python312\\lib\\site-packages (from rouge_score) (2.1.0)\n",
      "Requirement already satisfied: nltk in c:\\users\\2000o\\appdata\\roaming\\python\\python312\\site-packages (from rouge_score) (3.9.1)\n",
      "Requirement already satisfied: numpy in d:\\programs\\python\\python312\\lib\\site-packages (from rouge_score) (1.26.4)\n",
      "Requirement already satisfied: six>=1.14.0 in d:\\programs\\python\\python312\\lib\\site-packages (from rouge_score) (1.16.0)\n",
      "Requirement already satisfied: click in c:\\users\\2000o\\appdata\\roaming\\python\\python312\\site-packages (from nltk->rouge_score) (8.1.7)\n",
      "Requirement already satisfied: joblib in d:\\programs\\python\\python312\\lib\\site-packages (from nltk->rouge_score) (1.4.2)\n",
      "Requirement already satisfied: regex>=2021.8.3 in c:\\users\\2000o\\appdata\\roaming\\python\\python312\\site-packages (from nltk->rouge_score) (2024.9.11)\n",
      "Requirement already satisfied: tqdm in d:\\programs\\python\\python312\\lib\\site-packages (from nltk->rouge_score) (4.66.5)\n",
      "Requirement already satisfied: colorama in d:\\programs\\python\\python312\\lib\\site-packages (from click->nltk->rouge_score) (0.4.6)\n"
     ]
    },
    {
     "name": "stderr",
     "output_type": "stream",
     "text": [
      "d:\\Programs\\Python\\Python312\\Lib\\site-packages\\tqdm\\auto.py:21: TqdmWarning: IProgress not found. Please update jupyter and ipywidgets. See https://ipywidgets.readthedocs.io/en/stable/user_install.html\n",
      "  from .autonotebook import tqdm as notebook_tqdm\n"
     ]
    },
    {
     "name": "stdout",
     "output_type": "stream",
     "text": [
      "WARNING:tensorflow:From d:\\Programs\\Python\\Python312\\Lib\\site-packages\\tf_keras\\src\\losses.py:2976: The name tf.losses.sparse_softmax_cross_entropy is deprecated. Please use tf.compat.v1.losses.sparse_softmax_cross_entropy instead.\n",
      "\n"
     ]
    }
   ],
   "source": [
    "!pip install evaluate\n",
    "!pip install rouge_score\n",
    "import os\n",
    "os.environ['TF_ENABLE_ONEDNN_OPTS'] = '0'\n",
    "import torch\n",
    "from transformers import AutoTokenizer, AutoModelForSeq2SeqLM, Seq2SeqTrainingArguments, Seq2SeqTrainer, DataCollatorForSeq2Seq\n",
    "from datasets import load_dataset\n",
    "import evaluate\n",
    "import numpy as np\n",
    "import gc"
   ]
  },
  {
   "cell_type": "code",
   "execution_count": 7,
   "metadata": {},
   "outputs": [],
   "source": [
    "# Load the model\n",
    "checkpoint = \"t5-small\"\n",
    "tokenizer = AutoTokenizer.from_pretrained(checkpoint)\n",
    "\n",
    "# Output directory for saving trained model\n",
    "out_dir = \"models\"\n",
    "if not os.path.exists(out_dir):\n",
    "    os.makedirs(out_dir)"
   ]
  },
  {
   "cell_type": "markdown",
   "metadata": {},
   "source": [
    "### **Load data**"
   ]
  },
  {
   "cell_type": "code",
   "execution_count": null,
   "metadata": {},
   "outputs": [],
   "source": [
    "sample_count = 17886 # max is 17886\n",
    "\n",
    "# Load the dataset\n",
    "dataset = load_dataset('csv', data_files='YT-titles-transcripts-clean.csv', split='train[0:' + str(sample_count) + ']')\n",
    "dataset = dataset.train_test_split(test_size=0.2)\n",
    "\n",
    "source_text = dataset['train'][:]['transcript']\n",
    "target_text = dataset['train'][:]['title']\n",
    "\n",
    "# Tokenize the source and target text\n",
    "tokenized_source_text = tokenizer(list(source_text), truncation=True, padding=False, max_length=512)\n",
    "tokenized_target_text = tokenizer(list(target_text), truncation=True, padding=False, max_length=512)\n",
    "\n",
    "# Find maximum lengths for source and target sequences\n",
    "max_source = max(len(item) for item in tokenized_source_text['input_ids'])\n",
    "max_target = max(len(item) for item in tokenized_target_text['input_ids'])\n",
    "\n",
    "# Preprocess function for mapping dataset\n",
    "def preprocess_function(unit):\n",
    "    # Prepend \"summarize: \" to each chat for summarization task\n",
    "    inputs = [\"summarize: \" + con for con in unit[\"transcript\"]]\n",
    "    # Tokenize inputs and labels\n",
    "    model_inputs = tokenizer(inputs, padding='max_length', truncation=True, max_length=max_source)\n",
    "    labels = tokenizer(text_target=unit[\"title\"], padding='max_length', truncation=True, max_length=max_target)\n",
    "\n",
    "    model_inputs[\"labels\"] = labels[\"input_ids\"]\n",
    "    return model_inputs\n",
    "\n",
    "# Map preprocess function to dataset\n",
    "tokenized_data = dataset.map(preprocess_function, batched=True)"
   ]
  },
  {
   "cell_type": "markdown",
   "metadata": {},
   "source": [
    "### **Training**"
   ]
  },
  {
   "cell_type": "code",
   "execution_count": null,
   "metadata": {},
   "outputs": [],
   "source": [
    "# Data collator\n",
    "data_collator = DataCollatorForSeq2Seq(tokenizer=tokenizer, model=checkpoint)\n",
    "\n",
    "# Load Rouge for evaluation\n",
    "rouge = evaluate.load(\"rouge\")\n",
    "\n",
    "# Compute metrics function\n",
    "def compute_metrics(preds):\n",
    "    predictions, labels = preds\n",
    "    decoded_preds = tokenizer.batch_decode(predictions, skip_special_tokens=True)\n",
    "    labels = np.where(labels != -100, labels, tokenizer.pad_token_id)\n",
    "    decoded_labels = tokenizer.batch_decode(labels, skip_special_tokens=True)\n",
    "    result = rouge.compute(predictions=decoded_preds, references=decoded_labels, use_stemmer=True)\n",
    "    prediction_lens = [np.count_nonzero(pred != tokenizer.pad_token_id) for pred in predictions]\n",
    "    result[\"gen_len\"] = np.mean(prediction_lens)\n",
    "    return {k: round(v, 4) for k, v in result.items()}\n",
    "\n",
    "# Load model\n",
    "model = AutoModelForSeq2SeqLM.from_pretrained(checkpoint)\n",
    "model.generation_config.max_new_tokens = 20\n",
    "\n",
    "batch_size = 16\n",
    "\n",
    "# Training arguments\n",
    "training_args = Seq2SeqTrainingArguments(\n",
    "    output_dir=out_dir,\n",
    "    eval_strategy=\"epoch\",\n",
    "    learning_rate=0.00005,\n",
    "    # auto_find_batch_size=True, # added this\n",
    "    per_device_train_batch_size=batch_size,\n",
    "    per_device_eval_batch_size=batch_size,\n",
    "    # gradient_accumulation_steps=4, # added this\n",
    "    # eval_accumulation_steps=1, # added this\n",
    "    # eval_steps=10, # added this\n",
    "    weight_decay=0.01,\n",
    "    save_total_limit=5,\n",
    "    num_train_epochs=20,\n",
    "    predict_with_generate=True,\n",
    "    fp16=True,\n",
    "    push_to_hub=False\n",
    ")\n",
    "\n",
    "# Trainer\n",
    "trainer = Seq2SeqTrainer(\n",
    "    model=model,\n",
    "    args=training_args,\n",
    "    train_dataset=tokenized_data[\"train\"],\n",
    "    eval_dataset=tokenized_data[\"test\"],\n",
    "    tokenizer=tokenizer,\n",
    "    data_collator=data_collator,\n",
    "    compute_metrics=compute_metrics,\n",
    ")\n",
    "\n",
    "\n",
    "#gc.collect()\n",
    "#torch.cuda.empty_cache()\n",
    "# Train the model\n",
    "trainer.train()\n",
    "\n",
    "# Save the trained model\n",
    "trainer.save_model(os.path.join(out_dir, 'trained-model'))"
   ]
  },
  {
   "cell_type": "markdown",
   "metadata": {},
   "source": [
    "### **Inference**"
   ]
  },
  {
   "cell_type": "code",
   "execution_count": 10,
   "metadata": {},
   "outputs": [
    {
     "name": "stdout",
     "output_type": "stream",
     "text": [
      "\n",
      "output:\n",
      "What's the Best-case scenario?\n"
     ]
    }
   ],
   "source": [
    "# Load trained model\n",
    "model = AutoModelForSeq2SeqLM.from_pretrained(os.path.join(out_dir, 'trained-model')).to('cuda')\n",
    "\n",
    "# Example input text for inference (transcription is from https://www.youtube.com/watch?v=dHy-qfkO54E)\n",
    "input_text = 'summarize: ' + \"\"\"I'm in Minecraft to discover one of the world's best\n",
    " kept food secrets.\n",
    " Come on, look at this.\n",
    " Oh, my Lord.\n",
    " I'm here in search of the most incredible apple,\n",
    " and there's only one way to get them.\n",
    " I've never made love to a tree.\n",
    " I haven't climbed a tree for decades, and I mean decades.\n",
    " That is delicious.\n",
    " It's so juicy.\n",
    " An amazing discovery.\n",
    " With enough apples from the jungle,\n",
    " I'm off to meet a guy who's been revolutionizing\n",
    " farming technology.\n",
    " Now, this farmer produces the most amazing potatoes.\n",
    " In fact, he's actually known as the mad potato scientist.\n",
    " After getting scammed for 15 emeralds,\n",
    " I've even managed to get my hands on a potato.\n",
    " That is amazing.\n",
    " Wow.\n",
    " This is the kind of discovery that sends me straight back\n",
    " to my kitchen.\n",
    " Because I've just tasted the most amazing potatoes.\n",
    " Next, I'm off to a place that's supposed\n",
    " to have the finest ingredient in the land.\n",
    " Oh, Lord, you are kidding me.\n",
    " Getting down there was an absolute fucking nightmare.\n",
    " And at the bottom, another surprise was waiting for me.\n",
    " Oh, my God.\n",
    " At first, I thought I found treasure,\n",
    " but then I made a horrifying discovery.\n",
    " What the fuck is this?\n",
    " Oh, dear.\n",
    " It's raw.\n",
    " Oh.\n",
    " Having survived my partial poisoning,\n",
    " it's time to face today's real challenge.\n",
    " challenge. This is it. Everything I've understood got up to speed with this week. It all comes\n",
    " down to this. For my main dish, I'm making a potato and apple soup. Capable of replenishing\n",
    " eight hunger bars. I'm also going to have a touch of honey in there as well. Seems as\n",
    " though word got out about my incredible meal. But right now, I can't afford to get distracted.\n",
    " But with just moments of spare, things took a turn for the worse. Hold on a minute. Oh\n",
    " for God's sake man. Let's get out of here before we get shot. And if you liked this\n",
    " video, don't forget to subscribe to my amazing YouTube channel for more. Good luck.\"\"\"\n",
    "\n",
    "# Perform inference\n",
    "with torch.no_grad():\n",
    "    tokenized_text = tokenizer(input_text, truncation=True, padding=True, return_tensors='pt')\n",
    "\n",
    "    source_ids = tokenized_text['input_ids'].to('cuda', dtype=torch.long)\n",
    "    source_mask = tokenized_text['attention_mask'].to('cuda', dtype=torch.long)\n",
    "\n",
    "    generated_ids = model.generate(\n",
    "        input_ids=source_ids,\n",
    "        attention_mask=source_mask,\n",
    "        max_length=512,\n",
    "        num_beams=5,\n",
    "        repetition_penalty=1,\n",
    "        length_penalty=1,\n",
    "        early_stopping=True,\n",
    "        no_repeat_ngram_size=2\n",
    "    )\n",
    "\n",
    "    pred = tokenizer.decode(generated_ids[0], skip_special_tokens=True, clean_up_tokenization_spaces=True)\n",
    "\n",
    "print(\"\\noutput:\\n\" + pred)"
   ]
  }
 ],
 "metadata": {
  "kernelspec": {
   "display_name": "Python 3",
   "language": "python",
   "name": "python3"
  },
  "language_info": {
   "codemirror_mode": {
    "name": "ipython",
    "version": 3
   },
   "file_extension": ".py",
   "mimetype": "text/x-python",
   "name": "python",
   "nbconvert_exporter": "python",
   "pygments_lexer": "ipython3",
   "version": "3.12.6"
  }
 },
 "nbformat": 4,
 "nbformat_minor": 2
}
